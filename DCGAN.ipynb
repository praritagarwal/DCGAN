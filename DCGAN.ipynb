{
 "cells": [
  {
   "cell_type": "markdown",
   "metadata": {},
   "source": [
    "Project to build and train a DCGAN"
   ]
  },
  {
   "cell_type": "code",
   "execution_count": 1,
   "metadata": {},
   "outputs": [
    {
     "name": "stdout",
     "output_type": "stream",
     "text": [
      "tensorflow version: 2.1.0\n",
      "keras version: 2.2.4-tf\n",
      "GPU: [PhysicalDevice(name='/physical_device:GPU:0', device_type='GPU')]\n"
     ]
    }
   ],
   "source": [
    "import tensorflow as tf\n",
    "from tensorflow import keras\n",
    "print('tensorflow version: {}'.format(tf.__version__))\n",
    "print('keras version: {}'.format(keras.__version__))\n",
    "print('GPU: {}'.format(tf.config.list_physical_devices('GPU')))"
   ]
  },
  {
   "cell_type": "code",
   "execution_count": 2,
   "metadata": {},
   "outputs": [],
   "source": [
    "import time\n",
    "import matplotlib.pyplot as plt\n",
    "import numpy as np"
   ]
  },
  {
   "cell_type": "markdown",
   "metadata": {},
   "source": [
    "While in this project, we ultimately wish to train the GAN on the [lfw](https://www.tensorflow.org/datasets/catalog/lfw) dataset to make it generate human faces, we will start small and train it on the Fashion-MNIST for practice. Once that works, we will try to build upon our acquired knowledge to train on the lfw dataset. "
   ]
  },
  {
   "cell_type": "markdown",
   "metadata": {},
   "source": [
    "## load the Fashion-MNIST dataset"
   ]
  },
  {
   "cell_type": "code",
   "execution_count": 3,
   "metadata": {},
   "outputs": [],
   "source": [
    "fashion_mnist = keras.datasets.fashion_mnist\n",
    "(X_train, _), (_,_) = fashion_mnist.load_data()"
   ]
  },
  {
   "cell_type": "code",
   "execution_count": 4,
   "metadata": {},
   "outputs": [
    {
     "name": "stdout",
     "output_type": "stream",
     "text": [
      "shape of X_train: (60000, 28, 28)\n",
      "max pixel value: 255\n",
      "min pixel value: 0\n"
     ]
    }
   ],
   "source": [
    "print('shape of X_train: {}'.format(X_train.shape))\n",
    "print('max pixel value: {}'.format(X_train.max()))\n",
    "print('min pixel value: {}'.format(X_train.min()))"
   ]
  },
  {
   "cell_type": "code",
   "execution_count": 5,
   "metadata": {},
   "outputs": [
    {
     "name": "stdout",
     "output_type": "stream",
     "text": [
      "new pixel max: 1.0\n",
      "new pixel min: -1.0\n"
     ]
    }
   ],
   "source": [
    "# scale the pixel value to have max = 1 and min = -1\n",
    "max_px = X_train.max()\n",
    "min_px = X_train.min()\n",
    "A = 2/(max_px - min_px)\n",
    "B = -1*(max_px + min_px)/(max_px - min_px)\n",
    "X_train = A*X_train + B\n",
    "print('new pixel max: {}'.format(X_train.max()))\n",
    "print('new pixel min: {}'.format(X_train.min()))"
   ]
  },
  {
   "cell_type": "markdown",
   "metadata": {},
   "source": [
    "## Build a DCGAN"
   ]
  },
  {
   "cell_type": "code",
   "execution_count": 6,
   "metadata": {},
   "outputs": [],
   "source": [
    "from tensorflow.keras.models import Sequential\n",
    "from tensorflow.keras.layers import Dense, BatchNormalization, Dropout, Reshape, Flatten\n",
    "from tensorflow.keras.layers import Conv2D, Conv2DTranspose"
   ]
  },
  {
   "cell_type": "markdown",
   "metadata": {},
   "source": [
    "### Generator:"
   ]
  },
  {
   "cell_type": "code",
   "execution_count": 7,
   "metadata": {},
   "outputs": [],
   "source": [
    "# function to build a generator of given specifications\n",
    "# Assumption: the first layer is a dense layer and \n",
    "# the rest are transpose Convolutional layers\n",
    "# list layers consists of a list of tuples except for \n",
    "# the first entry which is a tuple: (num_units, activation) for the dense layer\n",
    "# the second entry is tuple of two objects: the height and the width of \n",
    "# the feature maps obtained from reshaping the output of the first layer\n",
    "# the rest of the enteries are tuples: (num_units, kernel_size, stride, padding, activation) for\n",
    "# the transpose convolutional layers\n",
    "# if batch_normalization == True, a BatchNormalization layer will be included after \n",
    "# every hidden layer except the first dense layer\n",
    "# if batch_normalization == False and drop_prob!=0, then \n",
    "# a dropout layer is added after every layer except the dense layer\n",
    "def build_generator(list_layers, coding_size = 100, batch_normalization = True, drop_prob = 0):\n",
    "    \n",
    "    dense_units, dense_act = list_layers.pop(0)\n",
    "    reshape_x, reshape_y = list_layers.pop(0)\n",
    "    reshape_channels = int(dense_units/(reshape_x*reshape_y))\n",
    "    \n",
    "    generator = Sequential()\n",
    "    generator.add(Dense(units=dense_units, activation = dense_act, \n",
    "                        input_shape=[coding_size]))\n",
    "    generator.add(Reshape([reshape_x, reshape_y, reshape_channels]))\n",
    "    \n",
    "    for layer in list_layers:\n",
    "        if batch_normalization:\n",
    "            generator.add(BatchNormalization())\n",
    "        elif drop_prob!=0:\n",
    "            generator.add(Dropout(drop_prob))\n",
    "            \n",
    "        num_units, kernel_size, stride, padding, activation = layer\n",
    "        trans_conv = Conv2DTranspose(filters = num_units, kernel_size = kernel_size, \n",
    "                                     strides = stride, padding = padding, \n",
    "                                     activation = activation)\n",
    "        generator.add(trans_conv)\n",
    "        \n",
    "    \n",
    "    return generator"
   ]
  },
  {
   "cell_type": "code",
   "execution_count": 8,
   "metadata": {},
   "outputs": [
    {
     "name": "stdout",
     "output_type": "stream",
     "text": [
      "Model: \"sequential\"\n",
      "_________________________________________________________________\n",
      "Layer (type)                 Output Shape              Param #   \n",
      "=================================================================\n",
      "dense (Dense)                (None, 6272)              633472    \n",
      "_________________________________________________________________\n",
      "reshape (Reshape)            (None, 7, 7, 128)         0         \n",
      "_________________________________________________________________\n",
      "batch_normalization (BatchNo (None, 7, 7, 128)         512       \n",
      "_________________________________________________________________\n",
      "conv2d_transpose (Conv2DTran (None, 14, 14, 64)        204864    \n",
      "_________________________________________________________________\n",
      "batch_normalization_1 (Batch (None, 14, 14, 64)        256       \n",
      "_________________________________________________________________\n",
      "conv2d_transpose_1 (Conv2DTr (None, 28, 28, 1)         1601      \n",
      "=================================================================\n",
      "Total params: 840,705\n",
      "Trainable params: 840,321\n",
      "Non-trainable params: 384\n",
      "_________________________________________________________________\n"
     ]
    }
   ],
   "source": [
    "l1 = (7*7*128, 'selu')\n",
    "l2 = (7, 7)\n",
    "l3 = (64, 5, 2, 'same', 'selu')\n",
    "l4 = (1, 5, 2, 'same', 'tanh')\n",
    "\n",
    "list_layers = [l1,l2,l3,l4]\n",
    "generator = build_generator(list_layers)\n",
    "generator.summary()"
   ]
  },
  {
   "cell_type": "markdown",
   "metadata": {},
   "source": [
    "### Discriminator"
   ]
  },
  {
   "cell_type": "code",
   "execution_count": 136,
   "metadata": {},
   "outputs": [],
   "source": [
    "# function to build a generator with given specifications\n",
    "# list_layers consists of a list of tuples used to describe each convolutional layer\n",
    "# tuples: (num_units, kernel_size, stride, padding, activation)\n",
    "# if batch_normalization is True, then each layer is followed by a BatchNormalization layer\n",
    "# if batch_normalization is False and drop_prob!=0, then each layer is followed by a dropout layer\n",
    "def build_discriminator(list_layers, input_shape, batch_normalization = False, drop_prob = 0.3):\n",
    "    \n",
    "    discriminator = Sequential()\n",
    "    filters, kernel_size, stride, padding, activation = list_layers.pop(0) \n",
    "    conv2d = Conv2D(filters = filters, kernel_size = kernel_size, \n",
    "                    strides = stride, padding = padding, \n",
    "                    activation = activation, input_shape = input_shape)\n",
    "    discriminator.add(conv2d)\n",
    "    \n",
    "    for filters, kernel_size, stride, padding, activation  in list_layers:\n",
    "        if batch_normalization:\n",
    "            discriminator.add(BatchNormalization())\n",
    "        elif drop_prob!=0:\n",
    "            discriminator.add(Dropout(drop_prob))\n",
    "        \n",
    "        conv2d = Conv2D(filters = filters, kernel_size = kernel_size, \n",
    "                    strides = stride, padding = padding, activation = activation, )\n",
    "        \n",
    "        discriminator.add(conv2d)\n",
    "        \n",
    "    discriminator.add(Flatten())\n",
    "    discriminator.add(Dense(1, activation = 'sigmoid'))\n",
    "        \n",
    "    return discriminator"
   ]
  },
  {
   "cell_type": "code",
   "execution_count": 137,
   "metadata": {},
   "outputs": [
    {
     "name": "stdout",
     "output_type": "stream",
     "text": [
      "Model: \"sequential_8\"\n",
      "_________________________________________________________________\n",
      "Layer (type)                 Output Shape              Param #   \n",
      "=================================================================\n",
      "conv2d_6 (Conv2D)            (None, 14, 14, 64)        1664      \n",
      "_________________________________________________________________\n",
      "dropout_3 (Dropout)          (None, 14, 14, 64)        0         \n",
      "_________________________________________________________________\n",
      "conv2d_7 (Conv2D)            (None, 7, 7, 128)         204928    \n",
      "_________________________________________________________________\n",
      "flatten_3 (Flatten)          (None, 6272)              0         \n",
      "_________________________________________________________________\n",
      "dense_7 (Dense)              (None, 1)                 6273      \n",
      "=================================================================\n",
      "Total params: 212,865\n",
      "Trainable params: 212,865\n",
      "Non-trainable params: 0\n",
      "_________________________________________________________________\n"
     ]
    }
   ],
   "source": [
    "l1 = (64, 5, 2, 'same', keras.layers.LeakyReLU(0.2))\n",
    "l2 = (128, 5, 2, 'same', keras.layers.LeakyReLU(0.2))\n",
    "list_layers = [l1,l2]\n",
    "input_shape = [28,28,1]\n",
    "discriminator = build_discriminator(list_layers, input_shape)\n",
    "discriminator.summary()"
   ]
  },
  {
   "cell_type": "markdown",
   "metadata": {},
   "source": [
    "### combine the generator and the discriminator into a GAN"
   ]
  },
  {
   "cell_type": "code",
   "execution_count": 11,
   "metadata": {},
   "outputs": [],
   "source": [
    "Gan = Sequential([generator, discriminator])"
   ]
  },
  {
   "cell_type": "code",
   "execution_count": 12,
   "metadata": {},
   "outputs": [],
   "source": [
    "# compiling the discriminator\n",
    "loss = 'binary_crossentropy'\n",
    "optimizer = 'rmsprop'\n",
    "metrics = ['acc']\n",
    "discriminator.compile(loss = loss, optimizer = optimizer, metrics = metrics )\n",
    "discriminator.trainable = False\n",
    "Gan.compile(loss = loss, optimizer = optimizer, metrics = metrics)"
   ]
  },
  {
   "cell_type": "markdown",
   "metadata": {},
   "source": [
    "## Custom training loop for the GAN"
   ]
  },
  {
   "cell_type": "code",
   "execution_count": 13,
   "metadata": {},
   "outputs": [],
   "source": [
    "# function to train the gan\n",
    "def train_gan(gan, training_images, num_epochs = 2, batch_size = 32, coding_size = 100):\n",
    "    \n",
    "    generator, discriminator = gan.layers\n",
    "    \n",
    "    idxs = tf.range(2*batch_size)\n",
    "    for epoch in tf.range(num_epochs):\n",
    "        \n",
    "        start = time.time()\n",
    "        for true_imgs in training_images:\n",
    "            \n",
    "            # generate a set of random codings\n",
    "            codings = tf.random.normal(shape = (batch_size, coding_size))\n",
    "            # convert the codings into images\n",
    "            gan_imgs = generator(codings)\n",
    "            y_gan = tf.constant([[0.]]*batch_size)\n",
    "            \n",
    "            # mix the gan images with the true images\n",
    "            y_true = tf.constant([[1.]]*batch_size)\n",
    "            all_imgs = tf.concat([true_imgs, gan_imgs], axis = 0)\n",
    "            all_y = tf.concat([y_true, y_gan], axis = 0)\n",
    "            \n",
    "            # shuffle the set of mixed images\n",
    "            shuffled_idxs = tf.random.shuffle(idxs)\n",
    "            shuffled_imgs = tf.gather(all_imgs, shuffled_idxs)\n",
    "            shuffled_y = tf.gather(all_y, shuffled_idxs)\n",
    "            \n",
    "            # phase 1: train the discriminator\n",
    "            discriminator.trainable = True\n",
    "            discriminator.train_on_batch(shuffled_imgs, shuffled_y)\n",
    "        \n",
    "            # phase 2: train the generator on a new set of codings\n",
    "            new_codings = tf.random.normal(shape = (batch_size, coding_size))\n",
    "            discriminator.trainable = False\n",
    "            gan.train_on_batch(codings, 1-y_gan)\n",
    "        \n",
    "        end = time.time()\n",
    "        time_taken = end - start\n",
    "        print('\\repoch:{0:}/{1:}, time:{2: .2f}s '.format(epoch+1, num_epochs, time_taken), \n",
    "              end = '', flush = True)\n",
    "        print('=', end = '')"
   ]
  },
  {
   "cell_type": "markdown",
   "metadata": {},
   "source": [
    "## Create a batched dataset from X_train"
   ]
  },
  {
   "cell_type": "code",
   "execution_count": 14,
   "metadata": {},
   "outputs": [],
   "source": [
    "# cast the type of X_train to float32\n",
    "X_train = tf.cast(X_train, tf.float32)\n",
    "# Add a channel dimension to X_train\n",
    "X_train = tf.reshape(X_train, [-1,28,28,1])\n",
    "# create a dataset\n",
    "buffer_size = 10000\n",
    "batch_size = 32\n",
    "training_images = tf.data.Dataset.from_tensor_slices(X_train).shuffle(buffer_size = buffer_size)\n",
    "training_images = training_images.batch(batch_size).prefetch(3)"
   ]
  },
  {
   "cell_type": "markdown",
   "metadata": {},
   "source": [
    "## Train the GAN"
   ]
  },
  {
   "cell_type": "code",
   "execution_count": 15,
   "metadata": {},
   "outputs": [
    {
     "name": "stdout",
     "output_type": "stream",
     "text": [
      "epoch:50/50, time: 25.22s ================================================="
     ]
    }
   ],
   "source": [
    "num_epochs = 50\n",
    "coding_size = 100\n",
    "train_gan(Gan, training_images, num_epochs, batch_size, coding_size)"
   ]
  },
  {
   "cell_type": "markdown",
   "metadata": {},
   "source": [
    "## Fashion-MNIST Images produced by the GAN"
   ]
  },
  {
   "cell_type": "code",
   "execution_count": 17,
   "metadata": {},
   "outputs": [
    {
     "name": "stdout",
     "output_type": "stream",
     "text": [
      "shape of new_images: (32, 28, 28)\n"
     ]
    }
   ],
   "source": [
    "num_imgs = 32\n",
    "codings = tf.random.normal(shape = [num_imgs, coding_size])\n",
    "generator, _ = Gan.layers\n",
    "new_imgs = generator(codings).numpy().reshape((-1,28,28))\n",
    "print('shape of new_images: {}'.format(new_imgs.shape))"
   ]
  },
  {
   "cell_type": "code",
   "execution_count": 18,
   "metadata": {},
   "outputs": [
    {
     "data": {
      "image/png": "[encoded data removed]",
      "text/plain": [
       "<Figure size 1152x1152 with 32 Axes>"
      ]
     },
     "metadata": {
      "needs_background": "light"
     },
     "output_type": "display_data"
    }
   ],
   "source": [
    "fig, ax = plt.subplots(figsize = (16, 16), nrows = 8, ncols = 4)\n",
    "ctr = 0\n",
    "for row in range(8):\n",
    "    for col in range(4):\n",
    "        ax[row, col].imshow(new_imgs[ctr])\n",
    "        ax[row, col].axis('off')\n",
    "        ctr+=1"
   ]
  },
  {
   "cell_type": "code",
   "execution_count": 19,
   "metadata": {},
   "outputs": [
    {
     "name": "stdout",
     "output_type": "stream",
     "text": [
      "path for fashion_mnist images: /home/prarit/MachineLearningProjects/DCGAN/dcgan_images/fashion_mnist.png\n"
     ]
    }
   ],
   "source": [
    "# save the above output to dcgan_images directory\n",
    "import os\n",
    "\n",
    "path = os.path.join(os.getcwd(), 'dcgan_images', 'fashion_mnist.png')\n",
    "print('path for fashion_mnist images: {}'.format(path))\n",
    "fig.savefig(path)"
   ]
  },
  {
   "cell_type": "markdown",
   "metadata": {},
   "source": [
    "## LFW dataset"
   ]
  },
  {
   "cell_type": "markdown",
   "metadata": {},
   "source": [
    "Having successfully trained a DCGAN on fashion-mnist dataset, let's see how it performs on the lfw dataset."
   ]
  },
  {
   "cell_type": "markdown",
   "metadata": {},
   "source": [
    "### load the LFW dataset"
   ]
  },
  {
   "cell_type": "code",
   "execution_count": 26,
   "metadata": {},
   "outputs": [],
   "source": [
    "import tensorflow_datasets as tfds\n",
    "# disable progress bar because otherwise, somehow,\n",
    "# tfds gives me an error: FloatProgress not found. Please update jupyter and ipywidgets, \n",
    "tfds.disable_progress_bar()"
   ]
  },
  {
   "cell_type": "code",
   "execution_count": 27,
   "metadata": {},
   "outputs": [
    {
     "name": "stdout",
     "output_type": "stream",
     "text": [
      "\u001b[1mDownloading and preparing dataset lfw/0.1.0 (download: 172.20 MiB, generated: Unknown size, total: 172.20 MiB) to /home/prarit/tensorflow_datasets/lfw/0.1.0...\u001b[0m\n",
      "Shuffling and writing examples to /home/prarit/tensorflow_datasets/lfw/0.1.0.incompleteMWQ99O/lfw-train.tfrecord\n",
      "\u001b[1mDataset lfw downloaded and prepared to /home/prarit/tensorflow_datasets/lfw/0.1.0. Subsequent calls will reuse this data.\u001b[0m\n"
     ]
    }
   ],
   "source": [
    "# download using tfds.load()\n",
    "# https://www.tensorflow.org/datasets/overview#tfdsload_a_dataset_in_one_line\n",
    "lfw = tfds.load(name = 'lfw', split = 'train')"
   ]
  },
  {
   "cell_type": "code",
   "execution_count": 43,
   "metadata": {},
   "outputs": [
    {
     "name": "stdout",
     "output_type": "stream",
     "text": [
      "lfw_type: <class 'tensorflow.python.data.ops.dataset_ops.DatasetV1Adapter'>\n"
     ]
    }
   ],
   "source": [
    "print('lfw_type: {}'.format(type(lfw)))"
   ]
  },
  {
   "cell_type": "markdown",
   "metadata": {},
   "source": [
    "lfw as returned by tfds is a tensorflow dataset. Let's inspect an item of lfw"
   ]
  },
  {
   "cell_type": "code",
   "execution_count": 45,
   "metadata": {},
   "outputs": [
    {
     "name": "stdout",
     "output_type": "stream",
     "text": [
      "item_type: <class 'dict'>\n"
     ]
    }
   ],
   "source": [
    "item = next(iter(lfw))\n",
    "print('item_type: {}'.format(type(item)))"
   ]
  },
  {
   "cell_type": "markdown",
   "metadata": {},
   "source": [
    "We see that each item of lfw is a dictionary. It's natural to guess this consists of an image and it's label i.e. the name of the person in the image. Let's verify this. "
   ]
  },
  {
   "cell_type": "code",
   "execution_count": 46,
   "metadata": {},
   "outputs": [
    {
     "name": "stdout",
     "output_type": "stream",
     "text": [
      "item_keys: dict_keys(['image', 'label'])\n"
     ]
    }
   ],
   "source": [
    "print('item_keys: {}'.format(item.keys()))"
   ]
  },
  {
   "cell_type": "markdown",
   "metadata": {},
   "source": [
    "Indeed, the dictionary contains an image and its label. For our current purposes, labels are not very important and we only want the images. To do this we will have to define a preprocessing function that creates a new dataset from lfw that only consists of the images without their labels. "
   ]
  },
  {
   "cell_type": "code",
   "execution_count": 52,
   "metadata": {},
   "outputs": [
    {
     "name": "stdout",
     "output_type": "stream",
     "text": [
      "shape of images in lfw: (250, 250, 3)\n",
      "max pix. value: 255\n",
      "min pix. value: 0\n"
     ]
    }
   ],
   "source": [
    "print('shape of images in lfw: {}'.format(item['image'].shape))\n",
    "print('max pix. value: {}'.format(item['image'].numpy().max()))\n",
    "print('min pix. value: {}'.format(item['image'].numpy().min()))"
   ]
  },
  {
   "cell_type": "markdown",
   "metadata": {},
   "source": [
    "We will also normalize the pixel value to lie between 0 and 1"
   ]
  },
  {
   "cell_type": "code",
   "execution_count": 123,
   "metadata": {},
   "outputs": [],
   "source": [
    "# function to ignore the labels and extract the images from lfw\n",
    "def ignore_labels(img_dict):\n",
    "    img = tf.cast(img_dict['image'], tf.float32) # must cast the pix. val to tf.float32 for multiplying an adding floats\n",
    "    norm_img = tf.image.resize(img/255.0, (112,112) )\n",
    "    return norm_img"
   ]
  },
  {
   "cell_type": "code",
   "execution_count": 124,
   "metadata": {},
   "outputs": [],
   "source": [
    "batch_size = 32\n",
    "buffer_size = 10000 \n",
    "prefetch = 3\n",
    "lfw_imgs = lfw.shuffle(buffer_size).batch(batch_size).map(lambda x: ignore_labels(x)).prefetch(3)"
   ]
  },
  {
   "cell_type": "code",
   "execution_count": 129,
   "metadata": {},
   "outputs": [
    {
     "name": "stdout",
     "output_type": "stream",
     "text": [
      "shape of im: (32, 112, 112, 3)\n",
      "max pix. val: 1.0\n",
      "min pix. val: 0.0\n"
     ]
    }
   ],
   "source": [
    "im=next(iter(lfw_imgs))\n",
    "print('shape of im: {}'.format(im.shape))\n",
    "print('max pix. val: {}'.format(tf.math.reduce_max(im)))\n",
    "print('min pix. val: {}'.format(tf.math.reduce_min(im)))"
   ]
  },
  {
   "cell_type": "code",
   "execution_count": 130,
   "metadata": {},
   "outputs": [
    {
     "data": {
      "image/png": "[encoded data removed]",
      "text/plain": [
       "<Figure size 432x288 with 1 Axes>"
      ]
     },
     "metadata": {
      "needs_background": "light"
     },
     "output_type": "display_data"
    }
   ],
   "source": [
    "plt.imshow(im[0])\n",
    "plt.show()"
   ]
  },
  {
   "cell_type": "markdown",
   "metadata": {},
   "source": [
    "### GAN generator"
   ]
  },
  {
   "cell_type": "markdown",
   "metadata": {},
   "source": [
    "We can not use the previous GAN as is, since it was designed for grayscale images. We'll keep the generator to be almost the same except that we will change the output layer to have 3 feature maps of size 112 x 112"
   ]
  },
  {
   "cell_type": "code",
   "execution_count": 133,
   "metadata": {},
   "outputs": [
    {
     "name": "stdout",
     "output_type": "stream",
     "text": [
      "Model: \"sequential_5\"\n",
      "_________________________________________________________________\n",
      "Layer (type)                 Output Shape              Param #   \n",
      "=================================================================\n",
      "dense_4 (Dense)              (None, 6272)              1260672   \n",
      "_________________________________________________________________\n",
      "reshape_3 (Reshape)          (None, 7, 7, 128)         0         \n",
      "_________________________________________________________________\n",
      "batch_normalization_8 (Batch (None, 7, 7, 128)         512       \n",
      "_________________________________________________________________\n",
      "conv2d_transpose_8 (Conv2DTr (None, 14, 14, 64)        204864    \n",
      "_________________________________________________________________\n",
      "batch_normalization_9 (Batch (None, 14, 14, 64)        256       \n",
      "_________________________________________________________________\n",
      "conv2d_transpose_9 (Conv2DTr (None, 28, 28, 64)        102464    \n",
      "_________________________________________________________________\n",
      "batch_normalization_10 (Batc (None, 28, 28, 64)        256       \n",
      "_________________________________________________________________\n",
      "conv2d_transpose_10 (Conv2DT (None, 56, 56, 64)        102464    \n",
      "_________________________________________________________________\n",
      "batch_normalization_11 (Batc (None, 56, 56, 64)        256       \n",
      "_________________________________________________________________\n",
      "conv2d_transpose_11 (Conv2DT (None, 112, 112, 3)       4803      \n",
      "=================================================================\n",
      "Total params: 1,676,547\n",
      "Trainable params: 1,675,907\n",
      "Non-trainable params: 640\n",
      "_________________________________________________________________\n"
     ]
    }
   ],
   "source": [
    "coding_size = 200\n",
    "l1 = (7*7*128, 'selu')\n",
    "l2 = (7, 7)\n",
    "l3 = (64, 5, 2, 'same', 'selu')\n",
    "l4 = (64, 5, 2, 'same', 'selu')\n",
    "l5 = (64, 5, 2, 'same', 'selu')\n",
    "l6 = (3, 5, 2, 'same', 'sigmoid')\n",
    "\n",
    "list_layers = [l1,l2,l3,l4,l5,l6]\n",
    "generator = build_generator(list_layers, coding_size = coding_size)\n",
    "generator.summary()"
   ]
  },
  {
   "cell_type": "markdown",
   "metadata": {},
   "source": [
    "### Gan dicriminator"
   ]
  },
  {
   "cell_type": "code",
   "execution_count": 139,
   "metadata": {},
   "outputs": [
    {
     "name": "stdout",
     "output_type": "stream",
     "text": [
      "Model: \"sequential_10\"\n",
      "_________________________________________________________________\n",
      "Layer (type)                 Output Shape              Param #   \n",
      "=================================================================\n",
      "conv2d_13 (Conv2D)           (None, 56, 56, 64)        1664      \n",
      "_________________________________________________________________\n",
      "dropout_8 (Dropout)          (None, 56, 56, 64)        0         \n",
      "_________________________________________________________________\n",
      "conv2d_14 (Conv2D)           (None, 28, 28, 64)        102464    \n",
      "_________________________________________________________________\n",
      "dropout_9 (Dropout)          (None, 28, 28, 64)        0         \n",
      "_________________________________________________________________\n",
      "conv2d_15 (Conv2D)           (None, 14, 14, 64)        102464    \n",
      "_________________________________________________________________\n",
      "dropout_10 (Dropout)         (None, 14, 14, 64)        0         \n",
      "_________________________________________________________________\n",
      "conv2d_16 (Conv2D)           (None, 7, 7, 128)         204928    \n",
      "_________________________________________________________________\n",
      "flatten_5 (Flatten)          (None, 6272)              0         \n",
      "_________________________________________________________________\n",
      "dense_9 (Dense)              (None, 1)                 6273      \n",
      "=================================================================\n",
      "Total params: 417,793\n",
      "Trainable params: 417,793\n",
      "Non-trainable params: 0\n",
      "_________________________________________________________________\n"
     ]
    }
   ],
   "source": [
    "l1 = (64, 5, 2, 'same', keras.layers.LeakyReLU(0.2))\n",
    "l2 = (64, 5, 2, 'same', keras.layers.LeakyReLU(0.2))\n",
    "l3 = (64, 5, 2, 'same', keras.layers.LeakyReLU(0.2))\n",
    "l4 = (128, 5, 2, 'same', keras.layers.LeakyReLU(0.2))\n",
    "list_layers = [l1,l2,l3,l4]\n",
    "input_shape = [112,112,1]\n",
    "discriminator = build_discriminator(list_layers, input_shape)\n",
    "discriminator.summary()"
   ]
  },
  {
   "cell_type": "markdown",
   "metadata": {},
   "source": [
    "### DCGAN"
   ]
  },
  {
   "cell_type": "code",
   "execution_count": null,
   "metadata": {},
   "outputs": [],
   "source": [
    "gan = Sequential([discriminator])"
   ]
  }
 ],
 "metadata": {
  "kernelspec": {
   "display_name": "Python [conda env:tensorflow]",
   "language": "python",
   "name": "conda-env-tensorflow-py"
  },
  "language_info": {
   "codemirror_mode": {
    "name": "ipython",
    "version": 3
   },
   "file_extension": ".py",
   "mimetype": "text/x-python",
   "name": "python",
   "nbconvert_exporter": "python",
   "pygments_lexer": "ipython3",
   "version": "3.7.6"
  }
 },
 "nbformat": 4,
 "nbformat_minor": 2
}
